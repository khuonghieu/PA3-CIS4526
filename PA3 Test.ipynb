{
 "cells": [
  {
   "cell_type": "code",
   "execution_count": 1,
   "metadata": {},
   "outputs": [],
   "source": [
    "import csv\n",
    "import numpy as np\n",
    "import sklearn\n",
    "from sklearn.model_selection import KFold\n",
    "import math\n",
    "from sklearn.metrics import accuracy_score"
   ]
  },
  {
   "cell_type": "code",
   "execution_count": 2,
   "metadata": {},
   "outputs": [],
   "source": [
    "# Read the training data file\n",
    "szDatasetPath = 'winequality-white.csv'\n",
    "listClasses = []\n",
    "listAttrs = []\n",
    "bFirstRow = True\n",
    "with open(szDatasetPath) as csvFile:\n",
    "    csvReader = csv.reader(csvFile, delimiter=',')\n",
    "    for row in csvReader:\n",
    "        if bFirstRow:\n",
    "            bFirstRow = False\n",
    "            continue\n",
    "        if int(row[-1]) < 6:\n",
    "            listClasses.append(-1)\n",
    "            listAttrs.append(list(map(float, row[1:len(row) - 1])))\n",
    "        elif int(row[-1]) > 6:\n",
    "            listClasses.append(+1)\n",
    "            listAttrs.append(list(map(float, row[1:len(row) - 1])))\n",
    "\n",
    "dataX = np.array(listAttrs)\n",
    "dataY = np.array(listClasses)\n"
   ]
  },
  {
   "cell_type": "code",
   "execution_count": 65,
   "metadata": {},
   "outputs": [],
   "source": [
    "def logistic_loss(train_y, pred_y):\n",
    "    toMinimize = np.dot(train_y, pred_y)\n",
    "    log_loss = np.log(1 + math.exp(-toMinimize))\n",
    "    return log_loss\n",
    "\n",
    "def hinge_loss(train_y, pred_y):\n",
    "    toMinimize = np.dot(train_y, pred_y)\n",
    "    if (1 - toMinimize > 0):\n",
    "        return 1 - toMinimize\n",
    "    else:\n",
    "        return 0 \n",
    "\n",
    "'''\n",
    "The regularizers shall compute the loss without considering the bias term in the weights\n",
    "'''\n",
    "\n",
    "def l1_reg(w):\n",
    "    # take sum of absolute values \n",
    "    l1_loss = 0;\n",
    "    for i in range(len(w)):\n",
    "        l1_loss += abs(w[i])  \n",
    "    return l1_loss\n",
    "\n",
    "def l2_reg(w):\n",
    "    l2_loss = np.dot(w[1:], np.transpose(w[1:]))\n",
    "    return np.sqrt(l2_loss)\n",
    "\n",
    "def test_classifier(w, test_x):\n",
    "    pred_y = np.zeros(len(test_x))\n",
    "    for i in range(len(test_x)):\n",
    "        pred_y[i] = np.dot(w[1:], test_x[i]) + w[0]\n",
    "    return pred_y    "
   ]
  },
  {
   "cell_type": "code",
   "execution_count": 89,
   "metadata": {},
   "outputs": [],
   "source": [
    "#Classifier with lambda and regularizer\n",
    "def train_classifier(train_x, train_y, learn_rate, loss, lambda_val=None, regularizer=None):\n",
    "    \n",
    "    if(lambda_val!=None and regularizer!=None):\n",
    "        # w = w - learning_rate * deriv(loss function/w)    \n",
    "        weight_vector = np.random.rand(len(dataX[0]) + 1)/100 # bias term included\n",
    "        num_iters = 10\n",
    "        # numerical differentiation \n",
    "        h = 0.0001\n",
    "        for i in range(num_iters):\n",
    "            current_weight = np.copy(weight_vector)\n",
    "\n",
    "            delta_weight = np.zeros(len(dataX[0]) + 1) # produce delta_weight to update weight w = w - delta_weight\n",
    "\n",
    "            pred_y = test_classifier(current_weight,train_x) #sua\n",
    "            current_loss = loss(train_y, pred_y) #sua\n",
    "\n",
    "            for i in range(len(delta_weight)):\n",
    "                temp_current_weight = np.copy(current_weight)\n",
    "                temp_current_weight[i] = temp_current_weight[i] + h\n",
    "                temp_pred_y = test_classifier(temp_current_weight,dataX)\n",
    "\n",
    "                # produce loss\n",
    "                temp_loss = loss(dataY, temp_pred_y)\n",
    "\n",
    "                # partial differentiation\n",
    "                delta_weight[i] = (temp_loss - current_loss) / h\n",
    "\n",
    "            # update weight vector :W = W - n dl/dW    \n",
    "            weight_vector = current_weight - learn_rate * delta_weight    \n",
    "        return weight_vector\n",
    "    \n",
    "    else:\n",
    "        # create pred_y --> goes into loss function  \n",
    "\n",
    "        # w = w - learning_rate * deriv(loss function/w)    \n",
    "        weight_vector = np.random.rand(len(dataX[0]) + 1) # bias term included\n",
    "        num_iters = 10\n",
    "        # numerical differentiation \n",
    "        h = 0.001\n",
    "        for i in range(num_iters):\n",
    "            current_weight = np.copy(weight_vector)\n",
    "\n",
    "            delta_weight = np.zeros(len(dataX[0]) + 1) # produce delta_weight to update weight w = w - delta_weight\n",
    "\n",
    "            pred_y = test_classifier(current_weight,train_x) #sua\n",
    "            current_loss = loss(train_y, pred_y) + lambda_val*regularizer(current_weight) #sua\n",
    "\n",
    "            for i in range(len(delta_weight)):\n",
    "                temp_current_weight = np.copy(current_weight)\n",
    "                temp_current_weight[i] = temp_current_weight[i] + h\n",
    "                temp_pred_y = test_classifier(temp_current_weight,dataX)\n",
    "\n",
    "                # produce loss\n",
    "                temp_loss = loss(dataY, temp_pred_y) + regularizer(temp_current_weight)\n",
    "\n",
    "                # partial differentiation\n",
    "                delta_weight[i] = (temp_loss - current_loss) / h\n",
    "\n",
    "            # update weight vector :W = W - n dl/dW    \n",
    "            weight_vector = current_weight - learn_rate * delta_weight    \n",
    "        return weight_vector"
   ]
  },
  {
   "cell_type": "code",
   "execution_count": null,
   "metadata": {},
   "outputs": [],
   "source": []
  },
  {
   "cell_type": "code",
   "execution_count": 90,
   "metadata": {},
   "outputs": [],
   "source": [
    "# Perform feature normalization after spliting the data to training and validation set.\n",
    "# (F - mean)/std_dev \n",
    "def normalize(train_data):\n",
    "    normalized_data = []\n",
    "    for i in range(len(train_data[0])):\n",
    "        temp = train_data[:,i]\n",
    "        normalized_col = np.copy(temp)\n",
    "        for j in range(len(temp)):\n",
    "            normalized_col[j] = (temp[j]-np.mean(temp))/np.std(temp)\n",
    "        normalized_data.append(list(normalized_col))\n",
    "    return np.transpose(np.array(normalized_data))"
   ]
  },
  {
   "cell_type": "code",
   "execution_count": 100,
   "metadata": {},
   "outputs": [
    {
     "name": "stdout",
     "output_type": "stream",
     "text": [
      "[-36.51348398 -36.50999269 -36.50985792 -36.5721983  -36.50895208\n",
      " -36.72540038 -37.62417927 -36.5197047  -36.52724969 -36.51177183\n",
      " -36.55645977]\n"
     ]
    },
    {
     "ename": "OverflowError",
     "evalue": "math range error",
     "output_type": "error",
     "traceback": [
      "\u001b[0;31m---------------------------------------------------------------------------\u001b[0m",
      "\u001b[0;31mOverflowError\u001b[0m                             Traceback (most recent call last)",
      "\u001b[0;32m<ipython-input-100-0d65527d5b0d>\u001b[0m in \u001b[0;36m<module>\u001b[0;34m()\u001b[0m\n\u001b[1;32m     10\u001b[0m     \u001b[0mprint\u001b[0m\u001b[0;34m(\u001b[0m\u001b[0mw\u001b[0m\u001b[0;34m)\u001b[0m\u001b[0;34m\u001b[0m\u001b[0;34m\u001b[0m\u001b[0m\n\u001b[1;32m     11\u001b[0m     \u001b[0mpred\u001b[0m \u001b[0;34m=\u001b[0m \u001b[0mtest_classifier\u001b[0m\u001b[0;34m(\u001b[0m\u001b[0mw\u001b[0m\u001b[0;34m,\u001b[0m\u001b[0mnormalize\u001b[0m\u001b[0;34m(\u001b[0m\u001b[0mX_test\u001b[0m\u001b[0;34m)\u001b[0m\u001b[0;34m)\u001b[0m\u001b[0;34m\u001b[0m\u001b[0;34m\u001b[0m\u001b[0m\n\u001b[0;32m---> 12\u001b[0;31m     \u001b[0mprint\u001b[0m\u001b[0;34m(\u001b[0m\u001b[0mlogistic_loss\u001b[0m\u001b[0;34m(\u001b[0m\u001b[0my_test\u001b[0m\u001b[0;34m,\u001b[0m\u001b[0mpred\u001b[0m\u001b[0;34m)\u001b[0m\u001b[0;34m)\u001b[0m\u001b[0;34m\u001b[0m\u001b[0;34m\u001b[0m\u001b[0m\n\u001b[0m",
      "\u001b[0;32m<ipython-input-65-f4aa849eb505>\u001b[0m in \u001b[0;36mlogistic_loss\u001b[0;34m(train_y, pred_y)\u001b[0m\n\u001b[1;32m      1\u001b[0m \u001b[0;32mdef\u001b[0m \u001b[0mlogistic_loss\u001b[0m\u001b[0;34m(\u001b[0m\u001b[0mtrain_y\u001b[0m\u001b[0;34m,\u001b[0m \u001b[0mpred_y\u001b[0m\u001b[0;34m)\u001b[0m\u001b[0;34m:\u001b[0m\u001b[0;34m\u001b[0m\u001b[0;34m\u001b[0m\u001b[0m\n\u001b[1;32m      2\u001b[0m     \u001b[0mtoMinimize\u001b[0m \u001b[0;34m=\u001b[0m \u001b[0mnp\u001b[0m\u001b[0;34m.\u001b[0m\u001b[0mdot\u001b[0m\u001b[0;34m(\u001b[0m\u001b[0mtrain_y\u001b[0m\u001b[0;34m,\u001b[0m \u001b[0mpred_y\u001b[0m\u001b[0;34m)\u001b[0m\u001b[0;34m\u001b[0m\u001b[0;34m\u001b[0m\u001b[0m\n\u001b[0;32m----> 3\u001b[0;31m     \u001b[0mlog_loss\u001b[0m \u001b[0;34m=\u001b[0m \u001b[0mnp\u001b[0m\u001b[0;34m.\u001b[0m\u001b[0mlog\u001b[0m\u001b[0;34m(\u001b[0m\u001b[0;36m1\u001b[0m \u001b[0;34m+\u001b[0m \u001b[0mmath\u001b[0m\u001b[0;34m.\u001b[0m\u001b[0mexp\u001b[0m\u001b[0;34m(\u001b[0m\u001b[0mtoMinimize\u001b[0m\u001b[0;34m)\u001b[0m\u001b[0;34m)\u001b[0m\u001b[0;34m\u001b[0m\u001b[0;34m\u001b[0m\u001b[0m\n\u001b[0m\u001b[1;32m      4\u001b[0m     \u001b[0;32mreturn\u001b[0m \u001b[0mlog_loss\u001b[0m\u001b[0;34m\u001b[0m\u001b[0;34m\u001b[0m\u001b[0m\n\u001b[1;32m      5\u001b[0m \u001b[0;34m\u001b[0m\u001b[0m\n",
      "\u001b[0;31mOverflowError\u001b[0m: math range error"
     ]
    }
   ],
   "source": [
    "# 5-fold cross-validation\n",
    "kf = KFold(n_splits=5)\n",
    "kf.get_n_splits(dataX)\n",
    "for train_index, test_index in kf.split(dataX):\n",
    "    X_train, X_test = dataX[train_index], dataX[test_index]\n",
    "    y_train, y_test = dataY[train_index], dataY[test_index]\n",
    "    \n",
    "    X_train = normalize(X_train)\n",
    "    w=train_classifier(X_train,y_train,0.00001,hinge_loss,0.0001,l2_reg)\n",
    "    print(w)\n",
    "    pred = test_classifier(w,normalize(X_test))\n",
    "    print(logistic_loss(y_test,pred))"
   ]
  },
  {
   "cell_type": "code",
   "execution_count": null,
   "metadata": {},
   "outputs": [],
   "source": []
  }
 ],
 "metadata": {
  "kernelspec": {
   "display_name": "Python 3",
   "language": "python",
   "name": "python3"
  },
  "language_info": {
   "codemirror_mode": {
    "name": "ipython",
    "version": 3
   },
   "file_extension": ".py",
   "mimetype": "text/x-python",
   "name": "python",
   "nbconvert_exporter": "python",
   "pygments_lexer": "ipython3",
   "version": "3.7.5rc1"
  }
 },
 "nbformat": 4,
 "nbformat_minor": 2
}
